{
 "cells": [
  {
   "cell_type": "markdown",
   "id": "4c00be87-f03e-4cdb-ad6e-02cefc6506a8",
   "metadata": {},
   "source": [
    "# TUTORIAL 1: DATA FORMAT CONVERSION\n",
    "\n",
    "## The .xiidm format\n",
    "\n",
    "When navigating through the files of the dataset, one will find that the format of each snapshot file is .xiidm. This format corresponds to an XML export of an IIDM (iTesla Internal Data Model))"
   ]
  }
 ],
 "metadata": {
  "kernelspec": {
   "display_name": "Python 3 (ipykernel)",
   "language": "python",
   "name": "python3"
  },
  "language_info": {
   "codemirror_mode": {
    "name": "ipython",
    "version": 3
   },
   "file_extension": ".py",
   "mimetype": "text/x-python",
   "name": "python",
   "nbconvert_exporter": "python",
   "pygments_lexer": "ipython3",
   "version": "3.12.7"
  }
 },
 "nbformat": 4,
 "nbformat_minor": 5
}
